{
 "cells": [
  {
   "cell_type": "markdown",
   "id": "31e4a7f6",
   "metadata": {},
   "source": []
  }
 ],
 "metadata": {
  "language_info": {
   "name": "python"
  }
 },
 "nbformat": 4,
 "nbformat_minor": 5
}
