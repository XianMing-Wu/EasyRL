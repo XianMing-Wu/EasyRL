{
 "cells": [
  {
   "cell_type": "code",
   "execution_count": 35,
   "id": "a3061b89",
   "metadata": {},
   "outputs": [
    {
     "data": {
      "text/plain": [
       "array([1, 3])"
      ]
     },
     "execution_count": 35,
     "metadata": {},
     "output_type": "execute_result"
    }
   ],
   "source": [
    "import numpy as np\n",
    "rewards = np.array([\n",
    "                [0, 0, -1, -1],\n",
    "                [0, -1, -1, 1],\n",
    "                [0, -1, 0, 0],\n",
    "                [-1, 0, 0, -1]\n",
    "            ])\n",
    "np.argwhere(rewards == 1)[0]"
   ]
  },
  {
   "cell_type": "code",
   "execution_count": null,
   "id": "ba3156fe",
   "metadata": {},
   "outputs": [
    {
     "data": {
      "text/plain": [
       "Discrete(25)"
      ]
     },
     "execution_count": 27,
     "metadata": {},
     "output_type": "execute_result"
    }
   ],
   "source": [
    "from gymnasium import spaces\n",
    "spaces.Discrete(25)"
   ]
  },
  {
   "cell_type": "code",
   "execution_count": 30,
   "id": "08b237c1",
   "metadata": {},
   "outputs": [
    {
     "name": "stdout",
     "output_type": "stream",
     "text": [
      "7\n",
      "[1 1]\n"
     ]
    }
   ],
   "source": [
    "from typing import Optional, Tuple, Dict, Any, List, Annotated\n",
    "def _pos_to_state(\n",
    "        pos: Annotated[np.ndarray, \"二维位置坐标\"],\n",
    "    ) -> Annotated[int, \"对应的一维状态索引\"]:\n",
    "        \"\"\"将二维位置转换为一维状态索引\"\"\"\n",
    "        return pos[0] * 5 + pos[1]\n",
    "\n",
    "def _state_to_pos(\n",
    "        state: Annotated[int, \"一维状态索引\"],\n",
    "    ) -> Annotated[np.ndarray, \"对应的二维位置坐标\"]:\n",
    "        \"\"\"将一维状态索引转换为二维位置\"\"\"\n",
    "        return np.array([state // 5, state % 5])\n",
    "print(_pos_to_state([1, 2]))\n",
    "print(_state_to_pos(spaces.Discrete(25).sample()))"
   ]
  },
  {
   "cell_type": "code",
   "execution_count": null,
   "id": "03d5c306",
   "metadata": {},
   "outputs": [],
   "source": []
  },
  {
   "cell_type": "code",
   "execution_count": null,
   "id": "ad7ccca6",
   "metadata": {},
   "outputs": [],
   "source": []
  },
  {
   "cell_type": "code",
   "execution_count": null,
   "id": "284a09f9",
   "metadata": {},
   "outputs": [],
   "source": []
  }
 ],
 "metadata": {
  "kernelspec": {
   "display_name": ".venv",
   "language": "python",
   "name": "python3"
  },
  "language_info": {
   "codemirror_mode": {
    "name": "ipython",
    "version": 3
   },
   "file_extension": ".py",
   "mimetype": "text/x-python",
   "name": "python",
   "nbconvert_exporter": "python",
   "pygments_lexer": "ipython3",
   "version": "3.12.3"
  }
 },
 "nbformat": 4,
 "nbformat_minor": 5
}
